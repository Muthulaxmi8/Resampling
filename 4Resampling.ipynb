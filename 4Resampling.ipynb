{
  "nbformat": 4,
  "nbformat_minor": 0,
  "metadata": {
    "colab": {
      "provenance": []
    },
    "kernelspec": {
      "name": "python3",
      "display_name": "Python 3"
    },
    "language_info": {
      "name": "python"
    }
  },
  "cells": [
    {
      "cell_type": "code",
      "metadata": {
        "colab": {
          "base_uri": "https://localhost:8080/"
        },
        "id": "5B5DdYG4W_HX",
        "outputId": "40fdb6e4-68af-425b-84f5-ae722e5328f1"
      },
      "source": [
        "from random import seed\n",
        "from random import randrange\n",
        "\n",
        "# Split a dataset into a train and test set\n",
        "def train_test_split(dataset, split=0.60):\n",
        "    train = list()\n",
        "    train_size = split * len(dataset)\n",
        "    dataset_copy = list(dataset)\n",
        "    while len(train) < train_size:\n",
        "        index = randrange(len(dataset_copy))\n",
        "        train.append(dataset_copy.pop(index))\n",
        "    return train, dataset_copy\n",
        "\n",
        "# test train/test split\n",
        "seed(1)\n",
        "dataset = [[1], [2], [3], [4], [5], [6], [7], [8], [9], [10]]\n",
        "train, test = train_test_split(dataset)\n",
        "print(train)\n",
        "print(test)"
      ],
      "execution_count": null,
      "outputs": [
        {
          "output_type": "stream",
          "name": "stdout",
          "text": [
            "[[3], [2], [7], [1], [8], [9]]\n",
            "[[4], [5], [6], [10]]\n"
          ]
        }
      ]
    },
    {
      "cell_type": "code",
      "metadata": {
        "colab": {
          "base_uri": "https://localhost:8080/"
        },
        "id": "BHcx6cYHXt4c",
        "outputId": "1a3b7d39-82e1-4e3c-fb61-7b631cb81bdb"
      },
      "source": [
        "from random import seed\n",
        "from random import randrange\n",
        " \n",
        "# Split a dataset into k folds\n",
        "def cross_validation_split(dataset, folds=3):\n",
        "\tdataset_split = list()\n",
        "\tdataset_copy = list(dataset)\n",
        "\tfold_size = int(len(dataset) / folds)\n",
        "\tfor i in range(folds):\n",
        "\t\tfold = list()\n",
        "\t\twhile len(fold) < fold_size:\n",
        "\t\t\tindex = randrange(len(dataset_copy))\n",
        "\t\t\tfold.append(dataset_copy.pop(index))\n",
        "\t\tdataset_split.append(fold)\n",
        "\treturn dataset_split\n",
        " \n",
        "# test cross validation split\n",
        "seed(1)\n",
        "dataset = [[1], [2], [3], [4], [5], [6], [7], [8], [9], [10]]\n",
        "folds = cross_validation_split(dataset, 4)\n",
        "print(folds)"
      ],
      "execution_count": null,
      "outputs": [
        {
          "output_type": "stream",
          "name": "stdout",
          "text": [
            "[[[3], [2]], [[7], [1]], [[8], [9]], [[10], [6]]]\n"
          ]
        }
      ]
    }
  ]
}